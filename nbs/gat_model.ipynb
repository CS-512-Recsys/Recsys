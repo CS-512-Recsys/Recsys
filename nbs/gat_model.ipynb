{
 "cells": [
  {
   "cell_type": "code",
   "execution_count": 5,
   "id": "cfe69afb",
   "metadata": {},
   "outputs": [],
   "source": [
    "import pandas as pd\n",
    "import numpy as np\n",
    "import matplotlib.pyplot as plt\n",
    "import torch\n",
    "from torch import nn\n",
    "from torch.nn import functional as F\n",
    "import os\n",
    "from pathlib import Path\n",
    "from collections import defaultdict\n",
    "import os\n",
    "from argparse import Namespace\n",
    "from joblib import dump, load\n",
    "base_dir = Path('/Users/vinay/Projects/Recsys')\n",
    "if not base_dir:\n",
    "    base_dir = Path(os.getcwd())\n",
    "from tqdm import tqdm\n",
    "\n",
    "data_dir = base_dir/'data'/'archive'\n",
    "store_dir = base_dir/'artifacts'\n",
    "import wandb\n",
    "from torch.utils.data import DataLoader as dl"
   ]
  },
  {
   "cell_type": "code",
   "execution_count": null,
   "id": "b6317973",
   "metadata": {},
   "outputs": [],
   "source": []
  },
  {
   "cell_type": "code",
   "execution_count": null,
   "id": "024644a6",
   "metadata": {},
   "outputs": [],
   "source": []
  },
  {
   "cell_type": "code",
   "execution_count": null,
   "id": "0c53e049",
   "metadata": {},
   "outputs": [],
   "source": []
  },
  {
   "cell_type": "code",
   "execution_count": null,
   "id": "da0fc47c",
   "metadata": {},
   "outputs": [],
   "source": []
  }
 ],
 "metadata": {
  "kernelspec": {
   "display_name": "Python 3 (ipykernel)",
   "language": "python",
   "name": "python3"
  },
  "language_info": {
   "codemirror_mode": {
    "name": "ipython",
    "version": 3
   },
   "file_extension": ".py",
   "mimetype": "text/x-python",
   "name": "python",
   "nbconvert_exporter": "python",
   "pygments_lexer": "ipython3",
   "version": "3.8.2"
  }
 },
 "nbformat": 4,
 "nbformat_minor": 5
}
