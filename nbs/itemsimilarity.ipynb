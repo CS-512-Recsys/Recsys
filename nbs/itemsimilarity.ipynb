{
 "cells": [
  {
   "cell_type": "code",
   "execution_count": 189,
   "id": "cfe69afb",
   "metadata": {},
   "outputs": [],
   "source": [
    "import pandas as pd\n",
    "import numpy as np\n",
    "import matplotlib.pyplot as plt\n",
    "import torch\n",
    "from torch import nn\n",
    "from torch.nn import functional as F\n",
    "import os\n",
    "from pathlib import Path\n",
    "from collections import defaultdict\n",
    "import os\n",
    "from argparse import Namespace\n",
    "from joblib import dump, load\n",
    "base_dir = Path('/Users/vinay/Projects/Recsys')\n",
    "if not base_dir:\n",
    "    base_dir = Path(os.getcwd())\n",
    "from tqdm import tqdm\n",
    "\n",
    "data_dir = base_dir/'data'/'archive'\n",
    "store_dir = base_dir/'artifacts'\n",
    "import wandb\n",
    "from torch.utils.data import DataLoader as dl"
   ]
  },
  {
   "cell_type": "markdown",
   "id": "0e076853-22a7-4f7f-8e37-135f8fdfe0f6",
   "metadata": {},
   "source": [
    "papers used\n",
    "- http://files.grouplens.org/papers/www10_sarwar.pdf\n",
    "- https://arxiv.org/pdf/1907.06902.pdf"
   ]
  },
  {
   "cell_type": "code",
   "execution_count": 181,
   "id": "024644a6",
   "metadata": {},
   "outputs": [],
   "source": [
    "df = pd.read_csv(data_dir/'partial_rating.csv')"
   ]
  },
  {
   "cell_type": "code",
   "execution_count": 9,
   "id": "a04813d2-2914-467a-adb6-197e3a8d0a33",
   "metadata": {},
   "outputs": [
    {
     "data": {
      "text/plain": [
       "array([   1,    2,    3, ..., 6741, 6742, 6743])"
      ]
     },
     "execution_count": 9,
     "metadata": {},
     "output_type": "execute_result"
    }
   ],
   "source": [
    "df['userId'].unique()"
   ]
  },
  {
   "cell_type": "markdown",
   "id": "86f479bd-b692-4604-b9fd-11f49b952727",
   "metadata": {},
   "source": [
    "When the entire data is partitioned,some of the movies have been removed. Thus we do not have some indices as clear from below."
   ]
  },
  {
   "cell_type": "code",
   "execution_count": 12,
   "id": "da0fc47c",
   "metadata": {},
   "outputs": [
    {
     "data": {
      "text/plain": [
       "array([     2,     29,     32, ...,   5331,  96306, 100226])"
      ]
     },
     "execution_count": 12,
     "metadata": {},
     "output_type": "execute_result"
    }
   ],
   "source": [
    "df['movieId'].unique()"
   ]
  },
  {
   "cell_type": "code",
   "execution_count": 182,
   "id": "52374f8e-45a2-45b8-b991-4c552d98677f",
   "metadata": {},
   "outputs": [],
   "source": [
    "movies = sorted(df['movieId'].unique())\n",
    "users = sorted(df['userId'].unique())\n",
    "movie_to_id = dict(zip(movies,range(len(movies))))\n",
    "users_to_id = dict(zip(users,range(len(users))))"
   ]
  },
  {
   "cell_type": "code",
   "execution_count": 107,
   "id": "5aa38a0a-3c7c-40a7-a2fc-9a072eb5ee7d",
   "metadata": {},
   "outputs": [],
   "source": [
    "\n",
    "def make_user_movie_mat(df,user_sz=None,movie_sz=None):\n",
    "    movies = sorted(df['movieId'].unique())\n",
    "    users = sorted(df['userId'].unique())\n",
    "    \n",
    "    movie_to_id = dict(zip(movies,range(len(movies))))\n",
    "    users_to_id = dict(zip(users,range(len(users))))\n",
    "    if (user_sz != None):\n",
    "        user_movie_mat = np.zeros((user_sz,movie_sz))\n",
    "    else:\n",
    "        user_movie_mat = np.zeros((len(users),len(movies)))\n",
    "    for i in tqdm(range(len(df))):\n",
    "        usr = df.iloc[i]['userId']\n",
    "        mv = df.iloc[i]['movieId']\n",
    "        rtg = df.iloc[i]['rating']\n",
    "        row,col = users_to_id[usr],movie_to_id[mv]\n",
    "        try:\n",
    "            user_movie_mat[row][col] = rtg\n",
    "        except:\n",
    "            import pdb;pdb.set_trace()\n",
    "    return user_movie_mat"
   ]
  },
  {
   "cell_type": "code",
   "execution_count": 46,
   "id": "c6b881ee-985d-4ae0-85c0-9b989b8cf427",
   "metadata": {},
   "outputs": [
    {
     "name": "stderr",
     "output_type": "stream",
     "text": [
      "100%|███████████████████████████████| 1000390/1000390 [01:43<00:00, 9695.11it/s]\n"
     ]
    }
   ],
   "source": [
    "#initialize a matrix of all 0's\n",
    "\n",
    "make_user_movie_mat(df)\n"
   ]
  },
  {
   "cell_type": "markdown",
   "id": "50682bde-7fa5-4b16-9233-f36cb77ea991",
   "metadata": {},
   "source": [
    "Above `user_movie_mat` is a matrix of size #users,#movies with each element being the corresponding rating. Unseen movies are left with 0."
   ]
  },
  {
   "cell_type": "code",
   "execution_count": 41,
   "id": "c595bf00-5bfb-4207-ab89-2acbea948463",
   "metadata": {},
   "outputs": [
    {
     "data": {
      "text/plain": [
       "['/Users/vinay/Projects/Recsys/data/archive/user_movie_mat.joblib']"
      ]
     },
     "execution_count": 41,
     "metadata": {},
     "output_type": "execute_result"
    }
   ],
   "source": [
    "dump(user_movie_mat,data_dir/'user_movie_mat.joblib')"
   ]
  },
  {
   "cell_type": "code",
   "execution_count": 42,
   "id": "c85dadfd-e3c9-4299-b39a-b0910a0cac24",
   "metadata": {},
   "outputs": [],
   "source": [
    "user_movie_mat = load(data_dir/'user_movie_mat.joblib')"
   ]
  },
  {
   "cell_type": "code",
   "execution_count": 43,
   "id": "17906eb5-b057-42da-bb00-92bb0b1b8ccb",
   "metadata": {},
   "outputs": [
    {
     "data": {
      "text/plain": [
       "array([[-1. ,  3.5, -1. , ..., -1. , -1. , -1. ],\n",
       "       [-1. , -1. ,  4. , ..., -1. , -1. , -1. ],\n",
       "       [ 4. , -1. , -1. , ..., -1. , -1. , -1. ],\n",
       "       ...,\n",
       "       [ 4. , -1. , -1. , ..., -1. , -1. , -1. ],\n",
       "       [-1. , -1. , -1. , ..., -1. , -1. , -1. ],\n",
       "       [ 4. ,  3. ,  3. , ..., -1. , -1. , -1. ]])"
      ]
     },
     "execution_count": 43,
     "metadata": {},
     "output_type": "execute_result"
    }
   ],
   "source": [
    "user_movie_mat"
   ]
  },
  {
   "cell_type": "code",
   "execution_count": 214,
   "id": "c53dc94c-8390-4065-9791-5aac065b9e74",
   "metadata": {},
   "outputs": [],
   "source": [
    "df_trn = pd.read_csv(data_dir/'partial_random_trn.csv')\n",
    "df_vld = pd.read_csv(data_dir/'partial_random_vld.csv')\n",
    "df_tst = pd.read_csv(data_dir/'partial_random_tst.csv')"
   ]
  },
  {
   "cell_type": "code",
   "execution_count": null,
   "id": "67525c03-14ee-4965-8129-9f0e27867df8",
   "metadata": {},
   "outputs": [],
   "source": []
  },
  {
   "cell_type": "markdown",
   "id": "8f6760a4-7c4c-48c6-a6d2-74ae9594d5ad",
   "metadata": {},
   "source": [
    "Here I'm merging the train and valid datasets into one. I will make multiple splits of this dataset to tune hyperparameters."
   ]
  },
  {
   "cell_type": "code",
   "execution_count": 66,
   "id": "997659d3-662d-4e18-9f1b-c64709401a1a",
   "metadata": {},
   "outputs": [],
   "source": [
    "df_vld.index = range(len(df_trn),len(df_vld)+len(df_trn),1)"
   ]
  },
  {
   "cell_type": "code",
   "execution_count": 216,
   "id": "633c20b2-4f92-404b-b337-5d8388b4812a",
   "metadata": {},
   "outputs": [
    {
     "data": {
      "text/html": [
       "<div>\n",
       "<style scoped>\n",
       "    .dataframe tbody tr th:only-of-type {\n",
       "        vertical-align: middle;\n",
       "    }\n",
       "\n",
       "    .dataframe tbody tr th {\n",
       "        vertical-align: top;\n",
       "    }\n",
       "\n",
       "    .dataframe thead th {\n",
       "        text-align: right;\n",
       "    }\n",
       "</style>\n",
       "<table border=\"1\" class=\"dataframe\">\n",
       "  <thead>\n",
       "    <tr style=\"text-align: right;\">\n",
       "      <th></th>\n",
       "      <th>Unnamed: 0</th>\n",
       "      <th>user_id</th>\n",
       "      <th>rating</th>\n",
       "      <th>movie_id</th>\n",
       "    </tr>\n",
       "  </thead>\n",
       "  <tbody>\n",
       "    <tr>\n",
       "      <th>0</th>\n",
       "      <td>0</td>\n",
       "      <td>1</td>\n",
       "      <td>4.0</td>\n",
       "      <td>541</td>\n",
       "    </tr>\n",
       "    <tr>\n",
       "      <th>1</th>\n",
       "      <td>1</td>\n",
       "      <td>1</td>\n",
       "      <td>4.0</td>\n",
       "      <td>2021</td>\n",
       "    </tr>\n",
       "    <tr>\n",
       "      <th>2</th>\n",
       "      <td>2</td>\n",
       "      <td>1</td>\n",
       "      <td>3.5</td>\n",
       "      <td>1222</td>\n",
       "    </tr>\n",
       "    <tr>\n",
       "      <th>3</th>\n",
       "      <td>3</td>\n",
       "      <td>1</td>\n",
       "      <td>4.0</td>\n",
       "      <td>318</td>\n",
       "    </tr>\n",
       "    <tr>\n",
       "      <th>4</th>\n",
       "      <td>4</td>\n",
       "      <td>1</td>\n",
       "      <td>4.0</td>\n",
       "      <td>6539</td>\n",
       "    </tr>\n",
       "    <tr>\n",
       "      <th>...</th>\n",
       "      <td>...</td>\n",
       "      <td>...</td>\n",
       "      <td>...</td>\n",
       "      <td>...</td>\n",
       "    </tr>\n",
       "    <tr>\n",
       "      <th>200018</th>\n",
       "      <td>200018</td>\n",
       "      <td>6743</td>\n",
       "      <td>3.5</td>\n",
       "      <td>2712</td>\n",
       "    </tr>\n",
       "    <tr>\n",
       "      <th>200019</th>\n",
       "      <td>200019</td>\n",
       "      <td>6743</td>\n",
       "      <td>4.0</td>\n",
       "      <td>5959</td>\n",
       "    </tr>\n",
       "    <tr>\n",
       "      <th>200020</th>\n",
       "      <td>200020</td>\n",
       "      <td>6743</td>\n",
       "      <td>2.5</td>\n",
       "      <td>786</td>\n",
       "    </tr>\n",
       "    <tr>\n",
       "      <th>200021</th>\n",
       "      <td>200021</td>\n",
       "      <td>6743</td>\n",
       "      <td>3.5</td>\n",
       "      <td>208</td>\n",
       "    </tr>\n",
       "    <tr>\n",
       "      <th>200022</th>\n",
       "      <td>200022</td>\n",
       "      <td>6743</td>\n",
       "      <td>4.0</td>\n",
       "      <td>1500</td>\n",
       "    </tr>\n",
       "  </tbody>\n",
       "</table>\n",
       "<p>797694 rows × 4 columns</p>\n",
       "</div>"
      ],
      "text/plain": [
       "        Unnamed: 0  user_id  rating  movie_id\n",
       "0                0        1     4.0       541\n",
       "1                1        1     4.0      2021\n",
       "2                2        1     3.5      1222\n",
       "3                3        1     4.0       318\n",
       "4                4        1     4.0      6539\n",
       "...            ...      ...     ...       ...\n",
       "200018      200018     6743     3.5      2712\n",
       "200019      200019     6743     4.0      5959\n",
       "200020      200020     6743     2.5       786\n",
       "200021      200021     6743     3.5       208\n",
       "200022      200022     6743     4.0      1500\n",
       "\n",
       "[797694 rows x 4 columns]"
      ]
     },
     "execution_count": 216,
     "metadata": {},
     "output_type": "execute_result"
    }
   ],
   "source": [
    "df_trn_vld = pd.concat([df_trn,df_vld])\n",
    "df_trn_vld"
   ]
  },
  {
   "cell_type": "code",
   "execution_count": null,
   "id": "b1f4080e-dee2-44bb-925d-04398be5699f",
   "metadata": {},
   "outputs": [],
   "source": []
  },
  {
   "cell_type": "code",
   "execution_count": 79,
   "id": "6c79674a-40ba-44c4-824c-711b88ed4573",
   "metadata": {},
   "outputs": [],
   "source": [
    "def get_data(data_dir,split:list,mode,data_type,save_to_disk=False,only_train_valid=False,data=None):\n",
    "    #split = [0.6,0.5]\n",
    "    #mode = 'random' or 'seq_aware'\n",
    "    #save_to_disk = flag to specify if we also want to save the splitted data to disk to avoid future computation.\n",
    "    # We are currently using 'random' split-> for each user, we take all the rows(movies he rated ) and randomly split\n",
    "    #them between trn,vld,tst\n",
    "    trn,vld,tst = defaultdict(list),defaultdict(list),defaultdict(list)\n",
    "    if data_dir:\n",
    "        import pdb;pdb.set_trace()\n",
    "        df = pd.read_csv(data_dir/(data_type+'_'+'rating.csv'))\n",
    "        df['date'] = pd.to_datetime(df['timestamp'])\n",
    "        user_ids = set(df['userId'])\n",
    "    else:\n",
    "        df = data\n",
    "        user_ids = set(df['user_id'])\n",
    "        \n",
    "    #Reorder rows\n",
    "    perm = random.sample(range(len(df)),len(df))\n",
    "    df = df.iloc[perm].reset_index()\n",
    "    \n",
    "    for user in tqdm(user_ids):\n",
    "        \n",
    "        #splitting-ids\n",
    "        if not only_train_valid:\n",
    "            tmp = df[df['userId'] == user]\n",
    "            if split == 'seq_aware':\n",
    "                tmp = tmp.sort_values(by='date')\n",
    "            sz = len(tmp)\n",
    "            t,v = int(split[0]*sz),int(split[0]*sz)+int((sz-int(split[0]*sz))*split[-1])\n",
    "            trn_ids,vld_ids,tst_ids = slice(0,t),slice(t,v),slice(v,sz)\n",
    "\n",
    "            trn['user_id'].extend(tmp[trn_ids]['userId'].tolist())\n",
    "            trn['rating'].extend(tmp[trn_ids]['rating'].tolist())\n",
    "            trn['movie_id'].extend(tmp[trn_ids]['movieId'].tolist())\n",
    "\n",
    "\n",
    "            vld['user_id'].extend(tmp[vld_ids]['userId'].tolist())\n",
    "            vld['rating'].extend(tmp[vld_ids]['rating'].tolist())\n",
    "            vld['movie_id'].extend(tmp[vld_ids]['movieId'].tolist())\n",
    "\n",
    "            tst['user_id'].extend(tmp[tst_ids]['userId'].tolist())\n",
    "            tst['rating'].extend(tmp[tst_ids]['rating'].tolist())\n",
    "            tst['movie_id'].extend(tmp[tst_ids]['movieId'].tolist())\n",
    "        else:\n",
    "            tmp = df[df['user_id'] == user]\n",
    "            sz = len(tmp)\n",
    "            t = int(split[0]*sz)\n",
    "            trn_ids,vld_ids = slice(0,t),slice(t,sz)\n",
    "            \n",
    "            trn['user_id'].extend(tmp[trn_ids]['user_id'].tolist())\n",
    "            trn['rating'].extend(tmp[trn_ids]['rating'].tolist())\n",
    "            trn['movie_id'].extend(tmp[trn_ids]['movie_id'].tolist())\n",
    "\n",
    "\n",
    "            vld['user_id'].extend(tmp[vld_ids]['user_id'].tolist())\n",
    "            vld['rating'].extend(tmp[vld_ids]['rating'].tolist())\n",
    "            vld['movie_id'].extend(tmp[vld_ids]['movie_id'].tolist())\n",
    "\n",
    "\n",
    "            \n",
    "    trn,vld,tst = pd.DataFrame(trn),pd.DataFrame(vld),pd.DataFrame(tst)\n",
    "    if save_to_disk:\n",
    "        trn.to_csv(data_dir/(data_type+'_'+mode+'_trn.csv'))\n",
    "        vld.to_csv(data_dir/(data_type+'_'+mode+'_vld.csv'))\n",
    "        tst.to_csv(data_dir/(data_type+'_'+mode+'_tst.csv'))\n",
    "    return trn,vld,tst\n",
    "        \n",
    "\n"
   ]
  },
  {
   "cell_type": "markdown",
   "id": "fdf72f6e-8054-4246-bd87-dca12e0e6c29",
   "metadata": {},
   "source": [
    "Above function is ugly but esentially it just gives a random split of the combined data-frame with a specified ratio."
   ]
  },
  {
   "cell_type": "code",
   "execution_count": 80,
   "id": "7f965ebf-70e1-4026-8421-27a84ec54d99",
   "metadata": {},
   "outputs": [
    {
     "name": "stderr",
     "output_type": "stream",
     "text": [
      "100%|█████████████████████████████████████| 6743/6743 [00:04<00:00, 1368.21it/s]\n"
     ]
    }
   ],
   "source": [
    "trn_split,vld_split,_ = get_data(None,[0.7],'random','',save_to_disk=False,only_train_valid=True,data=df_trn_vld)"
   ]
  },
  {
   "cell_type": "code",
   "execution_count": 98,
   "id": "7dcd83bf-e764-4d7b-90c7-1a94df0149a5",
   "metadata": {},
   "outputs": [],
   "source": [
    "trn_split.rename(columns={'user_id':'userId','movie_id':'movieId'},inplace=True)\n",
    "vld_split.rename(columns={'user_id':'userId','movie_id':'movieId'},inplace=True)"
   ]
  },
  {
   "cell_type": "code",
   "execution_count": 134,
   "id": "3493e049-3277-4779-a77a-c6326709f7e0",
   "metadata": {},
   "outputs": [
    {
     "name": "stderr",
     "output_type": "stream",
     "text": [
      "100%|████████████████████████████████| 555449/555449 [00:52<00:00, 10492.36it/s]\n"
     ]
    }
   ],
   "source": [
    "mv_sz,user_sz = len(df['movieId'].unique()),len(df['userId'].unique())\n",
    "\n",
    "trn_user_movie_mat = make_user_movie_mat(trn_split,user_sz,mv_sz)\n"
   ]
  },
  {
   "cell_type": "code",
   "execution_count": 166,
   "id": "8ac7ad47-a39d-433f-be43-31f100799809",
   "metadata": {},
   "outputs": [
    {
     "data": {
      "text/plain": [
       "(6743, 13950)"
      ]
     },
     "execution_count": 166,
     "metadata": {},
     "output_type": "execute_result"
    }
   ],
   "source": [
    "#normalize the matrix\n",
    "#trn_user_movie_mat = trn_user_movie_mat/(np.linalg.norm(trn_user_movie_mat,axis=-1))\n",
    "trn_user_movie_mat.shape"
   ]
  },
  {
   "cell_type": "code",
   "execution_count": 168,
   "id": "1c8e4293-198b-4981-8842-dd6d239a4837",
   "metadata": {},
   "outputs": [],
   "source": [
    "scaled_trn_user_movie_mat = trn_user_movie_mat/(np.linalg.norm(trn_user_movie_mat,axis=0)+1e-6)"
   ]
  },
  {
   "cell_type": "code",
   "execution_count": 170,
   "id": "fcae18ca-3163-4363-a2da-edf56a548c48",
   "metadata": {},
   "outputs": [
    {
     "data": {
      "text/plain": [
       "(6743, 13950)"
      ]
     },
     "execution_count": 170,
     "metadata": {},
     "output_type": "execute_result"
    }
   ],
   "source": [
    "scaled_trn_user_movie_mat.shape"
   ]
  },
  {
   "cell_type": "code",
   "execution_count": 171,
   "id": "f68d8ec6-d5fe-4061-b939-bea1f8bfd6ee",
   "metadata": {},
   "outputs": [],
   "source": [
    "#collect all pair wise dot-products.\n",
    "dot_product_mat = (trn_user_movie_mat.T)@trn_user_movie_mat"
   ]
  },
  {
   "cell_type": "code",
   "execution_count": null,
   "id": "8d10f8a8-9684-409b-942a-4d5f7aa7d295",
   "metadata": {},
   "outputs": [],
   "source": []
  },
  {
   "cell_type": "code",
   "execution_count": 172,
   "id": "95cbf0c0-69a0-44da-afd6-512f94e2654d",
   "metadata": {},
   "outputs": [
    {
     "data": {
      "text/plain": [
       "array([ 3511.  , 10094.75,   280.5 ])"
      ]
     },
     "execution_count": 172,
     "metadata": {},
     "output_type": "execute_result"
    }
   ],
   "source": [
    "dot_product_mat[9][[0,9,8]]"
   ]
  },
  {
   "cell_type": "code",
   "execution_count": 202,
   "id": "8f182699-0b2d-4368-92f4-8a71bb02901b",
   "metadata": {},
   "outputs": [],
   "source": [
    "def get_rating(user_id,movie_id,train_df,similarity_mat,top=10):\n",
    "    movies_seen = np.array(train_df[train_df['userId'] == user_id]['movieId'])\n",
    "    corres_ratings = np.array(train_df[train_df['userId'] == user_id]['rating'])\n",
    "    movie_ids = []\n",
    "    movie_to_comp = movie_to_id[movie_id]\n",
    "    for mv in movies_seen:\n",
    "        movie_ids.append(movie_to_id[mv])\n",
    "        \n",
    "    similarity_vals = similarity_mat[movie_to_comp][movie_ids]\n",
    "    if len(similarity_vals)<top:\n",
    "        top = len(similarity_vals)\n",
    "    \n",
    "    try:\n",
    "        top_indices = np.argsort(similarity_vals)[-top:]\n",
    "        top_similar_vals= similarity_vals[top_indices]\n",
    "        top_ratings = corres_ratings[top_indices]\n",
    "    except:\n",
    "         import pdb;pdb.set_trace()\n",
    "        \n",
    "    \n",
    "    weighted_rating = sum(top_ratings*(top_similar_vals/(1e-6+sum(top_similar_vals))))\n",
    "    return weighted_rating\n",
    "    \n",
    "    "
   ]
  },
  {
   "cell_type": "code",
   "execution_count": 177,
   "id": "e96338ac-44cf-40c8-aa44-5c7cc74e4283",
   "metadata": {},
   "outputs": [],
   "source": [
    "r = get_rating(1,8507,trn_split,dot_product_mat,top=10)"
   ]
  },
  {
   "cell_type": "code",
   "execution_count": 178,
   "id": "0ef6778b-1485-4f0e-94ce-fd05e2b67899",
   "metadata": {},
   "outputs": [
    {
     "data": {
      "text/plain": [
       "3.4172846164217336"
      ]
     },
     "execution_count": 178,
     "metadata": {},
     "output_type": "execute_result"
    }
   ],
   "source": [
    "r"
   ]
  },
  {
   "cell_type": "code",
   "execution_count": 219,
   "id": "492939e8-1cfb-40a8-ac72-114ec322870b",
   "metadata": {},
   "outputs": [],
   "source": [
    "\n",
    "def cross_valid_best_params(df_trn,df_vld,df,top_list=[5,10,15,20,30],times=3,combine=True):\n",
    "    out_dict = defaultdict(list)\n",
    "    if combine:\n",
    "        df_vld.index = range(len(df_trn),len(df_vld)+len(df_trn),1)\n",
    "        df_trn_vld = pd.concat([df_trn,df_vld])\n",
    "    else:\n",
    "        df_trn_vld = df_trn\n",
    "    for top_k in top_list:\n",
    "        print(f\"at the start of : {top_k}\")\n",
    "        # do it for 3 splits and average the results\n",
    "        error = []\n",
    "        for i in range(times):\n",
    "            tst_error = []\n",
    "            if combine:\n",
    "                trn_split,vld_split,_ = get_data(None,[0.7],'random','',save_to_disk=False,only_train_valid=True,data=df_trn_vld)  \n",
    "            else:\n",
    "                trn_split,vld_split = df_trn,df_vld\n",
    "                \n",
    "            trn_split.rename(columns={'user_id':'userId','movie_id':'movieId'},inplace=True)\n",
    "            vld_split.rename(columns={'user_id':'userId','movie_id':'movieId'},inplace=True)\n",
    "            mv_sz,user_sz = len(df['movieId'].unique()),len(df['userId'].unique())\n",
    "            trn_user_movie_mat = make_user_movie_mat(trn_split,user_sz,mv_sz)\n",
    "            scaled_trn_user_movie_mat = trn_user_movie_mat/(np.linalg.norm(trn_user_movie_mat,axis=0)+1e-6)\n",
    "            #collect all pair wise dot-products.\n",
    "            dot_product_mat = (trn_user_movie_mat.T)@trn_user_movie_mat\n",
    "            print(f\"Inside validation loop\")\n",
    "            for i in tqdm(range(len(vld_split))):\n",
    "                try:\n",
    "                    usr = vld_split.iloc[i]['userId']\n",
    "                    mv = vld_split.iloc[i]['movieId']\n",
    "                    rtg = vld_split.iloc[i]['rating']\n",
    "                except:\n",
    "                    print(f\"check the column names for the df\")\n",
    "                    import pdb;pdb.set_trace()\n",
    "                pred_r = get_rating(usr,mv,trn_split,dot_product_mat,top=top_k)\n",
    "                tst_error.append(abs(rtg-pred_r))\n",
    "            error.append(np.mean(tst_error))\n",
    "            print(f\"top {top_k},iter {i} -> avg.abs error {error[-1]}\")\n",
    "        out_dict[top_k].append(np.mean(error))\n",
    "    return out_dict\n",
    "            \n",
    "\n",
    "\n",
    "        "
   ]
  },
  {
   "cell_type": "code",
   "execution_count": 205,
   "id": "e0bc4ad8-2f4e-4444-9ea4-5845acd2dfde",
   "metadata": {},
   "outputs": [
    {
     "name": "stdout",
     "output_type": "stream",
     "text": [
      "at the start of : 5\n"
     ]
    },
    {
     "name": "stderr",
     "output_type": "stream",
     "text": [
      "100%|█████████████████████████████████████| 6743/6743 [00:04<00:00, 1368.08it/s]\n",
      "100%|████████████████████████████████| 555449/555449 [00:53<00:00, 10318.44it/s]\n"
     ]
    },
    {
     "name": "stdout",
     "output_type": "stream",
     "text": [
      "Inside validation loop\n"
     ]
    },
    {
     "name": "stderr",
     "output_type": "stream",
     "text": [
      "100%|██████████████████████████████████| 242245/242245 [04:59<00:00, 808.86it/s]\n"
     ]
    },
    {
     "name": "stdout",
     "output_type": "stream",
     "text": [
      "top 5,iter 242244 -> avg.abs error 0.8779272686057658\n"
     ]
    },
    {
     "name": "stderr",
     "output_type": "stream",
     "text": [
      "100%|█████████████████████████████████████| 6743/6743 [00:04<00:00, 1369.67it/s]\n",
      "100%|████████████████████████████████| 555449/555449 [00:54<00:00, 10267.15it/s]\n"
     ]
    },
    {
     "name": "stdout",
     "output_type": "stream",
     "text": [
      "Inside validation loop\n"
     ]
    },
    {
     "name": "stderr",
     "output_type": "stream",
     "text": [
      "100%|██████████████████████████████████| 242245/242245 [04:58<00:00, 810.94it/s]\n"
     ]
    },
    {
     "name": "stdout",
     "output_type": "stream",
     "text": [
      "top 5,iter 242244 -> avg.abs error 0.8726080798911631\n"
     ]
    },
    {
     "name": "stderr",
     "output_type": "stream",
     "text": [
      "100%|█████████████████████████████████████| 6743/6743 [00:04<00:00, 1368.57it/s]\n",
      "100%|████████████████████████████████| 555449/555449 [00:53<00:00, 10357.98it/s]\n"
     ]
    },
    {
     "name": "stdout",
     "output_type": "stream",
     "text": [
      "Inside validation loop\n"
     ]
    },
    {
     "name": "stderr",
     "output_type": "stream",
     "text": [
      "100%|██████████████████████████████████| 242245/242245 [04:54<00:00, 821.64it/s]\n"
     ]
    },
    {
     "name": "stdout",
     "output_type": "stream",
     "text": [
      "top 5,iter 242244 -> avg.abs error 0.8740773962016192\n",
      "at the start of : 10\n"
     ]
    },
    {
     "name": "stderr",
     "output_type": "stream",
     "text": [
      "100%|█████████████████████████████████████| 6743/6743 [00:04<00:00, 1366.15it/s]\n",
      "100%|████████████████████████████████| 555449/555449 [00:53<00:00, 10402.96it/s]\n"
     ]
    },
    {
     "name": "stdout",
     "output_type": "stream",
     "text": [
      "Inside validation loop\n"
     ]
    },
    {
     "name": "stderr",
     "output_type": "stream",
     "text": [
      "100%|██████████████████████████████████| 242245/242245 [04:55<00:00, 819.02it/s]\n"
     ]
    },
    {
     "name": "stdout",
     "output_type": "stream",
     "text": [
      "top 10,iter 242244 -> avg.abs error 0.8424844507856815\n"
     ]
    },
    {
     "name": "stderr",
     "output_type": "stream",
     "text": [
      "100%|█████████████████████████████████████| 6743/6743 [00:04<00:00, 1363.41it/s]\n",
      "100%|████████████████████████████████| 555449/555449 [00:53<00:00, 10312.68it/s]\n"
     ]
    },
    {
     "name": "stdout",
     "output_type": "stream",
     "text": [
      "Inside validation loop\n"
     ]
    },
    {
     "name": "stderr",
     "output_type": "stream",
     "text": [
      "100%|██████████████████████████████████| 242245/242245 [04:58<00:00, 811.98it/s]\n"
     ]
    },
    {
     "name": "stdout",
     "output_type": "stream",
     "text": [
      "top 10,iter 242244 -> avg.abs error 0.8380608102716153\n"
     ]
    },
    {
     "name": "stderr",
     "output_type": "stream",
     "text": [
      "100%|█████████████████████████████████████| 6743/6743 [00:04<00:00, 1365.57it/s]\n",
      "100%|████████████████████████████████| 555449/555449 [00:53<00:00, 10411.95it/s]\n"
     ]
    },
    {
     "name": "stdout",
     "output_type": "stream",
     "text": [
      "Inside validation loop\n"
     ]
    },
    {
     "name": "stderr",
     "output_type": "stream",
     "text": [
      "100%|█████████████████████████████████| 242245/242245 [1:39:12<00:00, 40.69it/s]\n"
     ]
    },
    {
     "name": "stdout",
     "output_type": "stream",
     "text": [
      "top 10,iter 242244 -> avg.abs error 0.8409395179228552\n",
      "at the start of : 15\n"
     ]
    },
    {
     "name": "stderr",
     "output_type": "stream",
     "text": [
      "100%|█████████████████████████████████████| 6743/6743 [00:04<00:00, 1398.05it/s]\n",
      "100%|████████████████████████████████| 555449/555449 [1:05:25<00:00, 141.50it/s]\n"
     ]
    },
    {
     "name": "stdout",
     "output_type": "stream",
     "text": [
      "Inside validation loop\n"
     ]
    },
    {
     "name": "stderr",
     "output_type": "stream",
     "text": [
      "100%|██████████████████████████████████| 242245/242245 [04:59<00:00, 809.11it/s]\n"
     ]
    },
    {
     "name": "stdout",
     "output_type": "stream",
     "text": [
      "top 15,iter 242244 -> avg.abs error 0.8387581421905601\n"
     ]
    },
    {
     "name": "stderr",
     "output_type": "stream",
     "text": [
      "100%|█████████████████████████████████████| 6743/6743 [00:04<00:00, 1365.82it/s]\n",
      "100%|████████████████████████████████| 555449/555449 [00:54<00:00, 10185.85it/s]\n"
     ]
    },
    {
     "name": "stdout",
     "output_type": "stream",
     "text": [
      "Inside validation loop\n"
     ]
    },
    {
     "name": "stderr",
     "output_type": "stream",
     "text": [
      "100%|██████████████████████████████████| 242245/242245 [04:59<00:00, 807.54it/s]\n"
     ]
    },
    {
     "name": "stdout",
     "output_type": "stream",
     "text": [
      "top 15,iter 242244 -> avg.abs error 0.8331486238906846\n"
     ]
    },
    {
     "name": "stderr",
     "output_type": "stream",
     "text": [
      "100%|█████████████████████████████████████| 6743/6743 [00:04<00:00, 1354.71it/s]\n",
      "100%|████████████████████████████████| 555449/555449 [00:53<00:00, 10289.59it/s]\n"
     ]
    },
    {
     "name": "stdout",
     "output_type": "stream",
     "text": [
      "Inside validation loop\n"
     ]
    },
    {
     "name": "stderr",
     "output_type": "stream",
     "text": [
      "100%|██████████████████████████████████| 242245/242245 [05:00<00:00, 807.37it/s]\n"
     ]
    },
    {
     "name": "stdout",
     "output_type": "stream",
     "text": [
      "top 15,iter 242244 -> avg.abs error 0.8324997259339623\n",
      "at the start of : 20\n"
     ]
    },
    {
     "name": "stderr",
     "output_type": "stream",
     "text": [
      "100%|█████████████████████████████████████| 6743/6743 [00:05<00:00, 1311.19it/s]\n",
      "100%|████████████████████████████████| 555449/555449 [00:54<00:00, 10211.89it/s]\n"
     ]
    },
    {
     "name": "stdout",
     "output_type": "stream",
     "text": [
      "Inside validation loop\n"
     ]
    },
    {
     "name": "stderr",
     "output_type": "stream",
     "text": [
      "100%|██████████████████████████████████| 242245/242245 [05:02<00:00, 800.14it/s]\n"
     ]
    },
    {
     "name": "stdout",
     "output_type": "stream",
     "text": [
      "top 20,iter 242244 -> avg.abs error 0.8263964465061893\n"
     ]
    },
    {
     "name": "stderr",
     "output_type": "stream",
     "text": [
      "100%|█████████████████████████████████████| 6743/6743 [00:04<00:00, 1354.68it/s]\n",
      "100%|████████████████████████████████| 555449/555449 [00:54<00:00, 10251.34it/s]\n"
     ]
    },
    {
     "name": "stdout",
     "output_type": "stream",
     "text": [
      "Inside validation loop\n"
     ]
    },
    {
     "name": "stderr",
     "output_type": "stream",
     "text": [
      "100%|██████████████████████████████████| 242245/242245 [05:02<00:00, 799.71it/s]\n"
     ]
    },
    {
     "name": "stdout",
     "output_type": "stream",
     "text": [
      "top 20,iter 242244 -> avg.abs error 0.8242035831533167\n"
     ]
    },
    {
     "name": "stderr",
     "output_type": "stream",
     "text": [
      "100%|█████████████████████████████████████| 6743/6743 [00:04<00:00, 1360.62it/s]\n",
      "100%|████████████████████████████████| 555449/555449 [00:54<00:00, 10271.69it/s]\n"
     ]
    },
    {
     "name": "stdout",
     "output_type": "stream",
     "text": [
      "Inside validation loop\n"
     ]
    },
    {
     "name": "stderr",
     "output_type": "stream",
     "text": [
      "100%|██████████████████████████████████| 242245/242245 [05:04<00:00, 795.94it/s]\n"
     ]
    },
    {
     "name": "stdout",
     "output_type": "stream",
     "text": [
      "top 20,iter 242244 -> avg.abs error 0.829881230272156\n",
      "at the start of : 30\n"
     ]
    },
    {
     "name": "stderr",
     "output_type": "stream",
     "text": [
      "100%|█████████████████████████████████████| 6743/6743 [00:04<00:00, 1367.18it/s]\n",
      "100%|████████████████████████████████| 555449/555449 [00:54<00:00, 10250.27it/s]\n"
     ]
    },
    {
     "name": "stdout",
     "output_type": "stream",
     "text": [
      "Inside validation loop\n"
     ]
    },
    {
     "name": "stderr",
     "output_type": "stream",
     "text": [
      "100%|██████████████████████████████████| 242245/242245 [14:11<00:00, 284.49it/s]\n"
     ]
    },
    {
     "name": "stdout",
     "output_type": "stream",
     "text": [
      "top 30,iter 242244 -> avg.abs error 0.8205707944233676\n"
     ]
    },
    {
     "name": "stderr",
     "output_type": "stream",
     "text": [
      "100%|█████████████████████████████████████| 6743/6743 [00:05<00:00, 1299.21it/s]\n",
      "100%|████████████████████████████████| 555449/555449 [00:53<00:00, 10394.99it/s]\n"
     ]
    },
    {
     "name": "stdout",
     "output_type": "stream",
     "text": [
      "Inside validation loop\n"
     ]
    },
    {
     "name": "stderr",
     "output_type": "stream",
     "text": [
      "100%|██████████████████████████████████| 242245/242245 [05:00<00:00, 805.67it/s]\n"
     ]
    },
    {
     "name": "stdout",
     "output_type": "stream",
     "text": [
      "top 30,iter 242244 -> avg.abs error 0.8180613293398472\n"
     ]
    },
    {
     "name": "stderr",
     "output_type": "stream",
     "text": [
      "100%|█████████████████████████████████████| 6743/6743 [00:05<00:00, 1271.92it/s]\n",
      "100%|████████████████████████████████| 555449/555449 [00:54<00:00, 10266.73it/s]\n"
     ]
    },
    {
     "name": "stdout",
     "output_type": "stream",
     "text": [
      "Inside validation loop\n"
     ]
    },
    {
     "name": "stderr",
     "output_type": "stream",
     "text": [
      "100%|██████████████████████████████████| 242245/242245 [04:59<00:00, 809.44it/s]"
     ]
    },
    {
     "name": "stdout",
     "output_type": "stream",
     "text": [
      "top 30,iter 242244 -> avg.abs error 0.8266165541040442\n"
     ]
    },
    {
     "name": "stderr",
     "output_type": "stream",
     "text": [
      "\n"
     ]
    }
   ],
   "source": [
    "out_error = cross_valid_best_params(df_trn,df_vld,df)"
   ]
  },
  {
   "cell_type": "code",
   "execution_count": 207,
   "id": "e0c0523f-200e-4e13-a019-77ebb656df00",
   "metadata": {},
   "outputs": [
    {
     "data": {
      "text/plain": [
       "['/Users/vinay/Projects/Recsys/data/archive/top_k.joblib']"
      ]
     },
     "execution_count": 207,
     "metadata": {},
     "output_type": "execute_result"
    }
   ],
   "source": [
    "dump(out_error,data_dir/'top_k.joblib')"
   ]
  },
  {
   "cell_type": "code",
   "execution_count": 222,
   "id": "2af88532-ef4a-4c84-92ea-fdf8b52a9a4d",
   "metadata": {},
   "outputs": [
    {
     "data": {
      "text/plain": [
       "defaultdict(list,\n",
       "            {5: [0.8748709148995161],\n",
       "             10: [0.8404949263267172],\n",
       "             15: [0.8348021640050689],\n",
       "             20: [0.8268270866438873],\n",
       "             30: [0.8217495592890863]})"
      ]
     },
     "execution_count": 222,
     "metadata": {},
     "output_type": "execute_result"
    }
   ],
   "source": [
    "out_error"
   ]
  },
  {
   "cell_type": "code",
   "execution_count": 210,
   "id": "d0d4a6f0-6fce-4559-a7ae-a8cdfb1b9f6f",
   "metadata": {},
   "outputs": [
    {
     "name": "stdout",
     "output_type": "stream",
     "text": [
      "at the start of : 35\n"
     ]
    },
    {
     "name": "stderr",
     "output_type": "stream",
     "text": [
      "100%|█████████████████████████████████████| 6743/6743 [00:04<00:00, 1359.84it/s]\n",
      "100%|█████████████████████████████████| 555449/555449 [1:34:51<00:00, 97.59it/s]\n"
     ]
    },
    {
     "name": "stdout",
     "output_type": "stream",
     "text": [
      "Inside validation loop\n"
     ]
    },
    {
     "name": "stderr",
     "output_type": "stream",
     "text": [
      "100%|████████████████████████████████| 242245/242245 [10:22:01<00:00,  6.49it/s]\n"
     ]
    },
    {
     "name": "stdout",
     "output_type": "stream",
     "text": [
      "top 35,iter 242244 -> avg.abs error 0.8341438371008657\n"
     ]
    },
    {
     "name": "stderr",
     "output_type": "stream",
     "text": [
      "100%|█████████████████████████████████████| 6743/6743 [00:04<00:00, 1403.58it/s]\n",
      "100%|████████████████████████████████| 555449/555449 [00:54<00:00, 10099.08it/s]\n"
     ]
    },
    {
     "name": "stdout",
     "output_type": "stream",
     "text": [
      "Inside validation loop\n"
     ]
    },
    {
     "name": "stderr",
     "output_type": "stream",
     "text": [
      "100%|██████████████████████████████████| 242245/242245 [05:06<00:00, 789.47it/s]\n"
     ]
    },
    {
     "name": "stdout",
     "output_type": "stream",
     "text": [
      "top 35,iter 242244 -> avg.abs error 0.8266075050161293\n"
     ]
    },
    {
     "name": "stderr",
     "output_type": "stream",
     "text": [
      "100%|█████████████████████████████████████| 6743/6743 [00:05<00:00, 1327.10it/s]\n",
      "100%|████████████████████████████████| 555449/555449 [00:54<00:00, 10107.50it/s]\n"
     ]
    },
    {
     "name": "stdout",
     "output_type": "stream",
     "text": [
      "Inside validation loop\n"
     ]
    },
    {
     "name": "stderr",
     "output_type": "stream",
     "text": [
      "100%|██████████████████████████████████| 242245/242245 [05:04<00:00, 795.02it/s]\n"
     ]
    },
    {
     "name": "stdout",
     "output_type": "stream",
     "text": [
      "top 35,iter 242244 -> avg.abs error 0.8162328577594937\n",
      "at the start of : 40\n"
     ]
    },
    {
     "name": "stderr",
     "output_type": "stream",
     "text": [
      "100%|█████████████████████████████████████| 6743/6743 [00:05<00:00, 1320.82it/s]\n",
      "100%|████████████████████████████████| 555449/555449 [00:54<00:00, 10164.82it/s]\n"
     ]
    },
    {
     "name": "stdout",
     "output_type": "stream",
     "text": [
      "Inside validation loop\n"
     ]
    },
    {
     "name": "stderr",
     "output_type": "stream",
     "text": [
      "100%|██████████████████████████████████| 242245/242245 [05:12<00:00, 776.13it/s]\n"
     ]
    },
    {
     "name": "stdout",
     "output_type": "stream",
     "text": [
      "top 40,iter 242244 -> avg.abs error 0.8206840491575744\n"
     ]
    },
    {
     "name": "stderr",
     "output_type": "stream",
     "text": [
      "100%|█████████████████████████████████████| 6743/6743 [00:05<00:00, 1319.52it/s]\n",
      "100%|████████████████████████████████| 555449/555449 [00:54<00:00, 10118.83it/s]\n"
     ]
    },
    {
     "name": "stdout",
     "output_type": "stream",
     "text": [
      "Inside validation loop\n"
     ]
    },
    {
     "name": "stderr",
     "output_type": "stream",
     "text": [
      "100%|██████████████████████████████████| 242245/242245 [05:06<00:00, 791.28it/s]\n"
     ]
    },
    {
     "name": "stdout",
     "output_type": "stream",
     "text": [
      "top 40,iter 242244 -> avg.abs error 0.8237535901783254\n"
     ]
    },
    {
     "name": "stderr",
     "output_type": "stream",
     "text": [
      "100%|█████████████████████████████████████| 6743/6743 [00:05<00:00, 1324.26it/s]\n",
      "100%|████████████████████████████████| 555449/555449 [00:53<00:00, 10298.40it/s]\n"
     ]
    },
    {
     "name": "stdout",
     "output_type": "stream",
     "text": [
      "Inside validation loop\n"
     ]
    },
    {
     "name": "stderr",
     "output_type": "stream",
     "text": [
      "100%|██████████████████████████████████| 242245/242245 [05:06<00:00, 791.03it/s]\n"
     ]
    },
    {
     "name": "stdout",
     "output_type": "stream",
     "text": [
      "top 40,iter 242244 -> avg.abs error 0.8249174184046525\n",
      "at the start of : 45\n"
     ]
    },
    {
     "name": "stderr",
     "output_type": "stream",
     "text": [
      "100%|█████████████████████████████████████| 6743/6743 [00:05<00:00, 1321.78it/s]\n",
      "100%|████████████████████████████████| 555449/555449 [00:54<00:00, 10108.16it/s]\n"
     ]
    },
    {
     "name": "stdout",
     "output_type": "stream",
     "text": [
      "Inside validation loop\n"
     ]
    },
    {
     "name": "stderr",
     "output_type": "stream",
     "text": [
      "100%|██████████████████████████████████| 242245/242245 [05:10<00:00, 779.33it/s]\n"
     ]
    },
    {
     "name": "stdout",
     "output_type": "stream",
     "text": [
      "top 45,iter 242244 -> avg.abs error 0.8244644933537408\n"
     ]
    },
    {
     "name": "stderr",
     "output_type": "stream",
     "text": [
      "100%|█████████████████████████████████████| 6743/6743 [00:05<00:00, 1306.90it/s]\n",
      "100%|████████████████████████████████| 555449/555449 [00:54<00:00, 10179.74it/s]\n"
     ]
    },
    {
     "name": "stdout",
     "output_type": "stream",
     "text": [
      "Inside validation loop\n"
     ]
    },
    {
     "name": "stderr",
     "output_type": "stream",
     "text": [
      "100%|██████████████████████████████████| 242245/242245 [05:07<00:00, 787.77it/s]\n"
     ]
    },
    {
     "name": "stdout",
     "output_type": "stream",
     "text": [
      "top 45,iter 242244 -> avg.abs error 0.8270587485269789\n"
     ]
    },
    {
     "name": "stderr",
     "output_type": "stream",
     "text": [
      "100%|█████████████████████████████████████| 6743/6743 [00:05<00:00, 1302.06it/s]\n",
      "100%|████████████████████████████████| 555449/555449 [00:54<00:00, 10099.32it/s]\n"
     ]
    },
    {
     "name": "stdout",
     "output_type": "stream",
     "text": [
      "Inside validation loop\n"
     ]
    },
    {
     "name": "stderr",
     "output_type": "stream",
     "text": [
      "100%|██████████████████████████████████| 242245/242245 [05:14<00:00, 771.47it/s]\n"
     ]
    },
    {
     "name": "stdout",
     "output_type": "stream",
     "text": [
      "top 45,iter 242244 -> avg.abs error 0.8249192947581768\n",
      "at the start of : 50\n"
     ]
    },
    {
     "name": "stderr",
     "output_type": "stream",
     "text": [
      "100%|█████████████████████████████████████| 6743/6743 [00:05<00:00, 1307.89it/s]\n",
      "100%|█████████████████████████████████| 555449/555449 [00:55<00:00, 9997.61it/s]\n"
     ]
    },
    {
     "name": "stdout",
     "output_type": "stream",
     "text": [
      "Inside validation loop\n"
     ]
    },
    {
     "name": "stderr",
     "output_type": "stream",
     "text": [
      "100%|██████████████████████████████████| 242245/242245 [05:02<00:00, 800.65it/s]\n"
     ]
    },
    {
     "name": "stdout",
     "output_type": "stream",
     "text": [
      "top 50,iter 242244 -> avg.abs error 0.8227981323243245\n"
     ]
    },
    {
     "name": "stderr",
     "output_type": "stream",
     "text": [
      "100%|█████████████████████████████████████| 6743/6743 [00:04<00:00, 1356.11it/s]\n",
      "100%|████████████████████████████████| 555449/555449 [00:53<00:00, 10322.28it/s]\n"
     ]
    },
    {
     "name": "stdout",
     "output_type": "stream",
     "text": [
      "Inside validation loop\n"
     ]
    },
    {
     "name": "stderr",
     "output_type": "stream",
     "text": [
      "100%|██████████████████████████████████| 242245/242245 [05:04<00:00, 795.97it/s]\n"
     ]
    },
    {
     "name": "stdout",
     "output_type": "stream",
     "text": [
      "top 50,iter 242244 -> avg.abs error 0.8219372724239943\n"
     ]
    },
    {
     "name": "stderr",
     "output_type": "stream",
     "text": [
      "100%|█████████████████████████████████████| 6743/6743 [00:04<00:00, 1358.78it/s]\n",
      "100%|████████████████████████████████| 555449/555449 [00:53<00:00, 10312.30it/s]\n"
     ]
    },
    {
     "name": "stdout",
     "output_type": "stream",
     "text": [
      "Inside validation loop\n"
     ]
    },
    {
     "name": "stderr",
     "output_type": "stream",
     "text": [
      "100%|██████████████████████████████████| 242245/242245 [04:58<00:00, 811.76it/s]\n"
     ]
    },
    {
     "name": "stdout",
     "output_type": "stream",
     "text": [
      "top 50,iter 242244 -> avg.abs error 0.8294910598162443\n"
     ]
    }
   ],
   "source": [
    "out_error2 = cross_valid_best_params(df_trn,df_vld,df,top_list=[35,40,45,50])"
   ]
  },
  {
   "cell_type": "code",
   "execution_count": 224,
   "id": "f4c8e212-9448-4c82-bcc4-c58d180b6235",
   "metadata": {},
   "outputs": [
    {
     "data": {
      "text/plain": [
       "['/Users/vinay/Projects/Recsys/data/archive/top_k.joblib']"
      ]
     },
     "execution_count": 224,
     "metadata": {},
     "output_type": "execute_result"
    }
   ],
   "source": [
    "store = {**out_error2,**out_error }\n",
    "dump(store,data_dir/'top_k.joblib')"
   ]
  },
  {
   "cell_type": "code",
   "execution_count": 212,
   "id": "c9d5e9c6-78cb-4bfa-9d92-05a892a4ca72",
   "metadata": {},
   "outputs": [],
   "source": [
    "# So the number of neighbours is fixed at 30"
   ]
  },
  {
   "cell_type": "code",
   "execution_count": 220,
   "id": "7dd82c40-874e-45a3-ac8d-4452816cbf5d",
   "metadata": {},
   "outputs": [
    {
     "name": "stdout",
     "output_type": "stream",
     "text": [
      "at the start of : 30\n"
     ]
    },
    {
     "name": "stderr",
     "output_type": "stream",
     "text": [
      "100%|████████████████████████████████| 797694/797694 [01:18<00:00, 10169.95it/s]\n"
     ]
    },
    {
     "name": "stdout",
     "output_type": "stream",
     "text": [
      "Inside validation loop\n"
     ]
    },
    {
     "name": "stderr",
     "output_type": "stream",
     "text": [
      "100%|██████████████████████████████████| 202696/202696 [05:37<00:00, 599.88it/s]\n"
     ]
    },
    {
     "name": "stdout",
     "output_type": "stream",
     "text": [
      "top 30,iter 202695 -> avg.abs error 0.7878955398684241\n"
     ]
    }
   ],
   "source": [
    "test_mae = cross_valid_best_params(df_trn_vld,df_tst,df,top_list=[30],times=1,combine=False)"
   ]
  },
  {
   "cell_type": "code",
   "execution_count": 225,
   "id": "34a8ff0e-a3f9-4e2f-9883-6c51c3c75225",
   "metadata": {},
   "outputs": [
    {
     "data": {
      "text/plain": [
       "['/Users/vinay/Projects/Recsys/data/archive/test_mae_baseline.joblib']"
      ]
     },
     "execution_count": 225,
     "metadata": {},
     "output_type": "execute_result"
    }
   ],
   "source": [
    "dump(test_mae,data_dir/'test_mae_baseline.joblib')"
   ]
  },
  {
   "cell_type": "code",
   "execution_count": 226,
   "id": "55af4df6-a785-4027-b549-4073dc9b4734",
   "metadata": {},
   "outputs": [],
   "source": [
    "test_2 = pd.read_csv('/Users/vinay/Projects/Recsys/artifacts/2_movielens_partial/inference_random_tst.csv')"
   ]
  },
  {
   "cell_type": "code",
   "execution_count": 230,
   "id": "d55ef64c-5c78-4ce7-8e00-a77fee55ec17",
   "metadata": {},
   "outputs": [
    {
     "data": {
      "text/plain": [
       "0.6613349791993923"
      ]
     },
     "execution_count": 230,
     "metadata": {},
     "output_type": "execute_result"
    }
   ],
   "source": [
    "np.mean(np.abs(test_2['y_true']-test_2['y_pred']))"
   ]
  },
  {
   "cell_type": "code",
   "execution_count": null,
   "id": "1f65c8da-f080-4852-b94e-b6f0b40367aa",
   "metadata": {},
   "outputs": [],
   "source": []
  }
 ],
 "metadata": {
  "kernelspec": {
   "display_name": "Python 3 (ipykernel)",
   "language": "python",
   "name": "python3"
  },
  "language_info": {
   "codemirror_mode": {
    "name": "ipython",
    "version": 3
   },
   "file_extension": ".py",
   "mimetype": "text/x-python",
   "name": "python",
   "nbconvert_exporter": "python",
   "pygments_lexer": "ipython3",
   "version": "3.9.7"
  }
 },
 "nbformat": 4,
 "nbformat_minor": 5
}
